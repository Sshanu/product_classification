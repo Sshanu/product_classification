{
 "cells": [
  {
   "cell_type": "code",
   "execution_count": 59,
   "metadata": {
    "collapsed": true
   },
   "outputs": [],
   "source": [
    "model = torch.load('models/vgg16.net')"
   ]
  },
  {
   "cell_type": "code",
   "execution_count": 63,
   "metadata": {
    "collapsed": true
   },
   "outputs": [],
   "source": [
    "for i=33,40 do \n",
    "    model:remove(33)\n",
    "end    \n",
    "\n",
    "model:add(nn.Linear(25088,4096))\n",
    "model:add(nn.ReLU())\n",
    "model:add(nn.Dropout(0.50000))\n",
    "model:add(nn.Linear(4096,4096))\n",
    "model:add(nn.ReLU())\n",
    "model:add(nn.Dropout(0.50000))\n",
    "model:add(nn.Linear(4096,1000))\n",
    "model:add(nn.ReLU())\n",
    "model:add(nn.Dropout(0.50000))\n",
    "model:add(nn.Linear(1000,17))\n",
    "model:add(nn.SoftMax())\n",
    "\n",
    "for i=1,19 do\n",
    "    model.modules[i].train = false\n",
    "end"
   ]
  },
  {
   "cell_type": "code",
   "execution_count": 67,
   "metadata": {},
   "outputs": [
    {
     "data": {
      "text/plain": [
       "\n"
      ]
     },
     "execution_count": 67,
     "metadata": {},
     "output_type": "execute_result"
    }
   ],
   "source": [
    "torch.save('modelv3.net',model)"
   ]
  }
 ],
 "metadata": {
  "kernelspec": {
   "display_name": "iTorch",
   "language": "lua",
   "name": "itorch"
  },
  "language_info": {
   "name": "lua",
   "version": "5.1"
  }
 },
 "nbformat": 4,
 "nbformat_minor": 2
}
