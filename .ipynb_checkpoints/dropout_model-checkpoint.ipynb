{
 "cells": [
  {
   "cell_type": "code",
   "execution_count": 1,
   "metadata": {
    "collapsed": true
   },
   "outputs": [],
   "source": [
    "optim = require 'optim'\n",
    "fullset = torch.load('data/size_100.dat')"
   ]
  },
  {
   "cell_type": "code",
   "execution_count": 3,
   "metadata": {
    "collapsed": true
   },
   "outputs": [],
   "source": [
    "size = fullset.size  -- Shuffling of the dataset\n",
    "shuffle = torch.randperm(size)\n",
    "shuffleset = fullset\n",
    "for i=1,size do\n",
    "    shuffleset.data[i] = fullset.data[shuffle[i]]\n",
    "    shuffleset.label[i] = fullset.label[shuffle[i]]\n",
    "    end\n",
    "fullset = shuffleset\n",
    "\n",
    "-- Trainset 80% of fullset\n",
    "trainset = {\n",
    "    data = fullset.data[{{1,size*.8}}]:float(),\n",
    "    label = fullset.label[{{1,size*.8}}],\n",
    "    size = size*.8\n",
    "}\n",
    "\n",
    "-- Fullset 20% of fullset\n",
    "testset = {\n",
    "    data = fullset.data[{{size*.8+1,size}}]:float(),\n",
    "    label = fullset.label[{{size*.8+1,size}}],\n",
    "    size = size-size*.8\n",
    "}"
   ]
  },
  {
   "cell_type": "code",
   "execution_count": 6,
   "metadata": {
    "collapsed": true
   },
   "outputs": [],
   "source": [
    "-- Converting trainset into metatables\n",
    "setmetatable(trainset, \n",
    "    {__index = function(t, i) \n",
    "                    return {t.data[i], t.label[i]} \n",
    "                end}\n",
    ");\n",
    "trainset.data = trainset.data:double() -- convert the data from a ByteTensor to a DoubleTensor.\n",
    "\n",
    "function trainset:size() \n",
    "    return self.data:size(1) \n",
    "end"
   ]
  },
  {
   "cell_type": "code",
   "execution_count": 7,
   "metadata": {
    "collapsed": true
   },
   "outputs": [],
   "source": [
    "-- Model\n",
    "nn = require 'nn'\n",
    "model = nn.Sequential()\n",
    "model:add(nn.SpatialConvolution(3,6,5,5))\n",
    "model:add(nn.SpatialMaxPooling(2,2,2,2))\n",
    "model:add(nn.ReLU())\n",
    "model:add(nn.SpatialConvolution(6,16,5,5))\n",
    "model:add(nn.SpatialMaxPooling(2,2,2,2))\n",
    "model:add(nn.ReLU())\n",
    "model:add(nn.SpatialConvolution(16,20,5,5))\n",
    "model:add(nn.SpatialMaxPooling(2,2,2,2))\n",
    "model:add(nn.ReLU())\n",
    "model:add(nn.View(-1))\n",
    "model:add(nn.Dropout(.2))\n",
    "model:add(nn.Linear(20*9*9,100))\n",
    "model:add(nn.ReLU())\n",
    "model:add(nn.Linear(100,17))\n",
    "model:add(nn.LogSoftMax())\n",
    "-- model = torch.load('fullmodel_back_cpu.net')"
   ]
  },
  {
   "cell_type": "code",
   "execution_count": 53,
   "metadata": {
    "collapsed": true
   },
   "outputs": [],
   "source": [
    "-- Hyperparameters for Trainer\n",
    "criterion = nn.ClassNLLCriterion()  \n",
    "trainer = nn.StochasticGradient(model, criterion)\n",
    "trainer.learningRate = 0.0001\n",
    "trainer.learningRateDecay = 0.09\n",
    "trainer.maxIteration = 1"
   ]
  },
  {
   "cell_type": "code",
   "execution_count": null,
   "metadata": {},
   "outputs": [
    {
     "data": {
      "text/plain": [
       "# StochasticGradient: training\t\n"
      ]
     },
     "execution_count": 54,
     "metadata": {},
     "output_type": "execute_result"
    }
   ],
   "source": [
    "accuracy, loss = trainer:train(trainset)  -- Training the model\n",
    "torch.save('modelv1.net', model)  --- Saving the model"
   ]
  },
  {
   "cell_type": "code",
   "execution_count": null,
   "metadata": {
    "collapsed": true
   },
   "outputs": [],
   "source": [
    "-- Evaluate testset after training\n",
    "eval = function(dataset)\n",
    "    correct = 0\n",
    "    for i=1,size*.8 do\n",
    "        local target = dataset.label[i]\n",
    "        local prediction = model:forward(dataset.data[i])\n",
    "        local confidences, indices = torch.sort(prediction, true)  \n",
    "        print(target,indices[1],confidences)\n",
    "        if target == indices[1] then\n",
    "            correct = correct + 1\n",
    "        end\n",
    "    end\n",
    "    return correct/(size*.8)*100\n",
    "end\n",
    "\n",
    "print(eval(testset))  "
   ]
  }
 ],
 "metadata": {
  "kernelspec": {
   "display_name": "iTorch",
   "language": "lua",
   "name": "itorch"
  },
  "language_info": {
   "name": "lua",
   "version": "5.1"
  }
 },
 "nbformat": 4,
 "nbformat_minor": 2
}
