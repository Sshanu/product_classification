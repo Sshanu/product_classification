{
 "cells": [
  {
   "cell_type": "code",
   "execution_count": 38,
   "metadata": {
    "collapsed": true
   },
   "outputs": [],
   "source": [
    "optim = require 'optim'\n",
    "\n",
    "fullset = torch.load('data/size_100.dat')"
   ]
  },
  {
   "cell_type": "code",
   "execution_count": 39,
   "metadata": {},
   "outputs": [
    {
     "data": {
      "text/plain": [
       "{\n",
       "  data : ByteTensor - size: 2380x3x100x100\n",
       "  size : 2380\n",
       "  label : ByteTensor - size: 2380\n",
       "}\n"
      ]
     },
     "execution_count": 39,
     "metadata": {},
     "output_type": "execute_result"
    }
   ],
   "source": [
    "fullset"
   ]
  },
  {
   "cell_type": "code",
   "execution_count": 40,
   "metadata": {
    "collapsed": true
   },
   "outputs": [],
   "source": [
    "size = fullset.size\n",
    "shuffle = torch.randperm(size)\n",
    "shuffleset = fullset\n",
    "for i=1,size do\n",
    "    shuffleset.data[i] = fullset.data[shuffle[i]]\n",
    "    shuffleset.label[i] = fullset.label[shuffle[i]]\n",
    "    end\n",
    "fullset = shuffleset\n",
    "\n",
    "trainset = {\n",
    "    data = fullset.data[{{1,size*.8}}]:float(),\n",
    "    label = fullset.label[{{1,size*.8}}],\n",
    "    size = size*.8\n",
    "}\n",
    "\n",
    "testset = {\n",
    "    data = fullset.data[{{size*.8+1,size}}]:float(),\n",
    "    label = fullset.label[{{size*.8+1,size}}],\n",
    "    size = size-size*.8\n",
    "}"
   ]
  },
  {
   "cell_type": "code",
   "execution_count": 41,
   "metadata": {},
   "outputs": [
    {
     "data": {
      "text/plain": [
       "{\n",
       "  data : FloatTensor - size: 1904x3x100x100\n",
       "  size : 1904\n",
       "  label : ByteTensor - size: 1904\n",
       "}\n"
      ]
     },
     "execution_count": 41,
     "metadata": {},
     "output_type": "execute_result"
    }
   ],
   "source": [
    "trainset "
   ]
  },
  {
   "cell_type": "code",
   "execution_count": 42,
   "metadata": {},
   "outputs": [
    {
     "data": {
      "text/plain": [
       "{\n",
       "  data : FloatTensor - size: 476x3x100x100\n",
       "  size : 476\n",
       "  label : ByteTensor - size: 476\n",
       "}\n"
      ]
     },
     "execution_count": 42,
     "metadata": {},
     "output_type": "execute_result"
    }
   ],
   "source": [
    "testset"
   ]
  },
  {
   "cell_type": "code",
   "execution_count": 50,
   "metadata": {},
   "outputs": [],
   "source": [
    "setmetatable(trainset, \n",
    "    {__index = function(t, i) \n",
    "                    return {t.data[i], t.label[i]} \n",
    "                end}\n",
    ");\n",
    "trainset.data = trainset.data:double() -- convert the data from a ByteTensor to a DoubleTensor.\n",
    "\n",
    "function trainset:size() \n",
    "    return self.data:size(1) \n",
    "end"
   ]
  },
  {
   "cell_type": "code",
   "execution_count": 51,
   "metadata": {
    "collapsed": true
   },
   "outputs": [],
   "source": [
    "nn = require 'nn'\n",
    "model = nn.Sequential()\n",
    "model:add(nn.SpatialConvolution(3,6,5,5))\n",
    "model:add(nn.SpatialMaxPooling(2,2,2,2))\n",
    "model:add(nn.ReLU())\n",
    "model:add(nn.SpatialConvolution(6,16,5,5))\n",
    "model:add(nn.SpatialMaxPooling(2,2,2,2))\n",
    "model:add(nn.ReLU())\n",
    "model:add(nn.SpatialConvolution(16,20,5,5))\n",
    "model:add(nn.SpatialMaxPooling(2,2,2,2))\n",
    "model:add(nn.ReLU())\n",
    "model:add(nn.View(20*9*9))\n",
    "model:add(nn.Dropout(.2))\n",
    "model:add(nn.Linear(20*9*9,100))\n",
    "model:add(nn.ReLU())\n",
    "model:add(nn.Linear(100,17))\n",
    "model:add(nn.LogSoftMax())\n",
    "-- model = torch.load('fullmodel_back_cpu.net')"
   ]
  },
  {
   "cell_type": "code",
   "execution_count": 52,
   "metadata": {},
   "outputs": [
    {
     "data": {
      "text/plain": [
       "nn.Sequential {\n",
       "  [input -> (1) -> (2) -> (3) -> (4) -> (5) -> (6) -> (7) -> (8) -> (9) -> (10) -> (11) -> (12) -> (13) -> (14) -> (15) -> output]\n",
       "  (1): nn.SpatialConvolution(3 -> 6, 5x5)\n",
       "  (2): nn.SpatialMaxPooling(2x2, 2,2)\n",
       "  (3): nn.ReLU\n",
       "  (4): nn.SpatialConvolution(6 -> 16, 5x5)\n",
       "  (5): nn.SpatialMaxPooling(2x2, 2,2)\n",
       "  (6): nn.ReLU\n",
       "  (7): nn.SpatialConvolution(16 -> 20, 5x5)\n",
       "  (8): nn.SpatialMaxPooling(2x2, 2,2)\n",
       "  (9): nn.ReLU\n",
       "  (10): nn.View(1620)\n",
       "  (11): nn.Dropout(0.200000)\n",
       "  (12): nn.Linear(1620 -> 100)\n",
       "  (13): nn.ReLU\n",
       "  (14): nn.Linear(100 -> 17)\n",
       "  (15): nn.LogSoftMax\n",
       "}\n",
       "{\n",
       "  gradInput : DoubleTensor - empty\n",
       "  modules : \n",
       "    {\n",
       "      1 : \n",
       "        nn.SpatialConvolution(3 -> 6, 5x5)\n",
       "        {\n",
       "          dH : 1\n",
       "          dW : 1\n",
       "          nInputPlane : 3\n",
       "          output : DoubleTensor - empty\n",
       "          kH : 5\n",
       "          gradBias : DoubleTensor - size: 6\n",
       "          padH : 0\n",
       "          bias : DoubleTensor - size: 6\n",
       "          weight : DoubleTensor - size: 6x3x5x5\n",
       "          _type : torch.DoubleTensor\n",
       "          gradWeight : DoubleTensor - size: 6x3x5x5\n",
       "          padW : 0\n",
       "          nOutputPlane : 6\n",
       "          kW : 5\n",
       "          gradInput : DoubleTensor - empty\n",
       "        }\n",
       "      2 : \n",
       "        nn.SpatialMaxPooling(2x2, 2,2)\n",
       "        {\n",
       "          dH : 2\n",
       "          dW : 2\n",
       "          kW : 2\n",
       "          gradInput : DoubleTensor - empty\n",
       "          indices : LongTensor - empty\n",
       "          _type : torch.DoubleTensor\n",
       "          padH : 0\n",
       "          ceil_mode : false\n",
       "          output : DoubleTensor - empty\n",
       "          kH : 2\n",
       "          padW : 0\n",
       "        }\n",
       "      3 : \n",
       "        nn.ReLU\n",
       "        {\n",
       "          inplace : false\n",
       "          threshold : 0\n",
       "          _type : torch.DoubleTensor\n",
       "          output : DoubleTensor - empty\n",
       "          gradInput : DoubleTensor - empty\n",
       "          val : 0\n",
       "        }\n",
       "      4 : \n",
       "        nn.SpatialConvolution(6 -> 16, 5x5)\n",
       "        {\n",
       "          dH : 1\n",
       "          dW : 1\n",
       "          nInputPlane : 6\n",
       "          output : DoubleTensor - empty\n",
       "          kH : 5\n",
       "          gradBias : DoubleTensor - size: 16\n",
       "          padH : 0\n",
       "          bias : DoubleTensor - size: 16\n",
       "          weight : DoubleTensor - size: 16x6x5x5\n",
       "          _type : torch.DoubleTensor\n",
       "          gradWeight : DoubleTensor - size: 16x6x5x5\n",
       "          padW : 0\n",
       "          nOutputPlane : 16\n",
       "          kW : 5\n",
       "          gradInput : DoubleTensor - empty\n",
       "        }\n",
       "      5 : \n",
       "        nn.SpatialMaxPooling(2x2, 2,2)\n",
       "        {\n",
       "          dH : 2\n",
       "          dW : 2\n",
       "          kW : 2\n",
       "          gradInput : DoubleTensor - empty\n",
       "          indices : LongTensor - empty\n",
       "          _type : torch.DoubleTensor\n",
       "          padH : 0\n",
       "          ceil_mode : false\n",
       "          output : DoubleTensor - empty\n",
       "          kH : 2\n",
       "          padW : 0\n",
       "        }\n",
       "      6 : \n",
       "        nn.ReLU\n",
       "        {\n",
       "          inplace : false\n",
       "          threshold : 0\n",
       "          _type : torch.DoubleTensor\n",
       "          output : DoubleTensor - empty\n",
       "          gradInput : DoubleTensor - empty\n",
       "          val : 0\n",
       "        }\n",
       "      7 : \n",
       "        nn.SpatialConvolution(16 -> 20, 5x5)\n",
       "        {\n",
       "          dH : 1\n",
       "          dW : 1\n",
       "          nInputPlane : 16\n",
       "          output : DoubleTensor - empty\n",
       "          kH : 5\n",
       "          gradBias : DoubleTensor - size: 20\n",
       "          padH : 0\n",
       "          bias : DoubleTensor - size: 20\n",
       "          weight : DoubleTensor - size: 20x16x5x5\n",
       "          _type : torch.DoubleTensor\n",
       "          gradWeight : DoubleTensor - size: 20x16x5x5\n",
       "          padW : 0\n",
       "          nOutputPlane : 20\n",
       "          kW : 5\n",
       "          gradInput : DoubleTensor - empty\n",
       "        }\n",
       "      8 : \n",
       "        nn.SpatialMaxPooling(2x2, 2,2)\n",
       "        {\n",
       "          dH : 2\n",
       "          dW : 2\n",
       "          kW : 2\n",
       "          gradInput : DoubleTensor - empty\n",
       "          indices : LongTensor - empty\n",
       "          _type : torch.DoubleTensor\n",
       "          padH : 0\n",
       "          ceil_mode : false\n",
       "          output : DoubleTensor - empty\n",
       "          kH : 2\n",
       "          padW : 0\n",
       "        }\n",
       "      9 : \n",
       "        nn.ReLU\n",
       "        {\n",
       "          inplace : false\n",
       "          threshold : 0\n",
       "          _type : torch.DoubleTensor\n",
       "          output : DoubleTensor - empty\n",
       "          gradInput : DoubleTensor - empty\n",
       "          val : 0\n",
       "        }\n",
       "      10 : \n",
       "        nn.View(1620)"
      ]
     },
     "execution_count": 52,
     "metadata": {},
     "output_type": "execute_result"
    },
    {
     "data": {
      "text/plain": [
       "\n",
       "        {\n",
       "          _type : torch.DoubleTensor\n",
       "          output : DoubleTensor - empty\n",
       "          gradInput : DoubleTensor - empty\n",
       "          size : LongStorage - size: 1\n",
       "          numElements : 1620\n",
       "        }\n",
       "      11 : \n",
       "        nn.Dropout(0.200000)\n",
       "        {\n",
       "          v2 : true\n",
       "          noise : DoubleTensor - empty\n",
       "          _type : torch.DoubleTensor\n",
       "          p : 0.2\n",
       "          gradInput : DoubleTensor - empty\n",
       "          stochastic_inference : false\n",
       "          train : true\n",
       "          output : DoubleTensor - empty\n",
       "        }\n",
       "      12 : \n",
       "        nn.Linear(1620 -> 100)\n",
       "        {\n",
       "          gradBias : DoubleTensor - size: 100\n",
       "          weight : DoubleTensor - size: 100x1620\n",
       "          _type : torch.DoubleTensor\n",
       "          output : DoubleTensor - empty\n",
       "          gradInput : DoubleTensor - empty\n",
       "          bias : DoubleTensor - size: 100\n",
       "          gradWeight : DoubleTensor - size: 100x1620\n",
       "        }\n",
       "      13 : \n",
       "        nn.ReLU\n",
       "        {\n",
       "          inplace : false\n",
       "          threshold : 0\n",
       "          _type : torch.DoubleTensor\n",
       "          output : DoubleTensor - empty\n",
       "          gradInput : DoubleTensor - empty\n",
       "          val : 0\n",
       "        }\n",
       "      14 : \n",
       "        nn.Linear(100 -> 17)\n",
       "        {\n",
       "          gradBias : DoubleTensor - size: 17\n",
       "          weight : DoubleTensor - size: 17x100\n",
       "          _type : torch.DoubleTensor\n",
       "          output : DoubleTensor - empty\n",
       "          gradInput : DoubleTensor - empty\n",
       "          bias : DoubleTensor - size: 17\n",
       "          gradWeight : DoubleTensor - size: 17x100\n",
       "        }\n",
       "      15 : \n",
       "        nn.LogSoftMax\n",
       "        {\n",
       "          gradInput : DoubleTensor - empty\n",
       "          _type : torch.DoubleTensor\n",
       "          output : DoubleTensor - empty\n",
       "        }\n",
       "    }\n",
       "  _type : torch.DoubleTensor\n",
       "  output : DoubleTensor - empty\n",
       "}\n"
      ]
     },
     "execution_count": 52,
     "metadata": {},
     "output_type": "execute_result"
    }
   ],
   "source": [
    "model"
   ]
  },
  {
   "cell_type": "code",
   "execution_count": 53,
   "metadata": {
    "collapsed": true
   },
   "outputs": [],
   "source": [
    "criterion = nn.ClassNLLCriterion()\n",
    "\n",
    "trainer = nn.StochasticGradient(model, criterion)\n",
    "trainer.learningRate = 0.0001\n",
    "trainer.maxIteration = 1000"
   ]
  },
  {
   "cell_type": "code",
   "execution_count": null,
   "metadata": {},
   "outputs": [
    {
     "data": {
      "text/plain": [
       "# StochasticGradient: training\t\n"
      ]
     },
     "execution_count": 54,
     "metadata": {},
     "output_type": "execute_result"
    }
   ],
   "source": [
    "accuracy, loss = trainer:train(trainset)"
   ]
  },
  {
   "cell_type": "code",
   "execution_count": null,
   "metadata": {
    "collapsed": true,
    "scrolled": false
   },
   "outputs": [],
   "source": [
    "x = {}\n",
    "for i = 1,1000 do\n",
    "    x[i] = i\n",
    "end\n",
    "Plot = require 'itorch.Plot'\n",
    "plot = Plot():line(x, loss,'red','loss'):legend(true):title('Loss'):draw()\n",
    "plot1 = Plot():line(x, accuracy,'green','accuracy'):legend(true):title('Accuacy'):draw()\n"
   ]
  },
  {
   "cell_type": "code",
   "execution_count": 20,
   "metadata": {},
   "outputs": [
    {
     "ename": "/home/shanu/torch/install/share/lua/5.1/nn/Container.lua:67: \nIn 1 module of nn.Sequential:\n/home/shanu/torch/install/share/lua/5.1/nn/THNN.lua:110: bad argument #3 to 'v' (cannot convert 'struct THDoubleTensor *' to 'struct THFloatTensor *')\nstack traceback:\n\t[C]: in function 'v'\n\t/home/shanu/torch/install/share/lua/5.1/nn/THNN.lua:110: in function 'SpatialConvolutionMM_updateOutput'\n\t...nu/torch/install/share/lua/5.1/nn/SpatialConvolution.lua:79: in function <...nu/torch/install/share/lua/5.1/nn/SpatialConvolution.lua:76>\n\t[C]: in function 'xpcall'\n\t/home/shanu/torch/install/share/lua/5.1/nn/Container.lua:63: in function 'rethrowErrors'\n\t/home/shanu/torch/install/share/lua/5.1/nn/Sequential.lua:44: in function 'forward'\n\t[string \"eval = function(dataset)...\"]:5: in function 'eval'\n\t[string \"eval = function(dataset)...\"]:15: in main chunk\n\t[C]: in function 'xpcall'\n\t/home/shanu/torch/install/share/lua/5.1/itorch/main.lua:210: in function </home/shanu/torch/install/share/lua/5.1/itorch/main.lua:174>\n\t/home/shanu/torch/install/share/lua/5.1/lzmq/poller.lua:75: in function 'poll'\n\t/home/shanu/torch/install/share/lua/5.1/lzmq/impl/loop.lua:307: in function 'poll'\n\t/home/shanu/torch/install/share/lua/5.1/lzmq/impl/loop.lua:325: in function 'sleep_ex'\n\t/home/shanu/torch/install/share/lua/5.1/lzmq/impl/loop.lua:370: in function 'start'\n\t/home/shanu/torch/install/share/lua/5.1/itorch/main.lua:389: in main chunk\n\t[C]: in function 'require'\n\t(command line):1: in main chunk\n\t[C]: at 0x00405d50\n\nWARNING: If you see a stack trace below, it doesn't point to the place where this error occurred. Please use only the one above.\nstack traceback:\n\t[C]: in function 'error'\n\t/home/shanu/torch/install/share/lua/5.1/nn/Container.lua:67: in function 'rethrowErrors'\n\t/home/shanu/torch/install/share/lua/5.1/nn/Sequential.lua:44: in function 'forward'\n\t[string \"eval = function(dataset)...\"]:5: in function 'eval'\n\t[string \"eval = function(dataset)...\"]:15: in main chunk\n\t[C]: in function 'xpcall'\n\t/home/shanu/torch/install/share/lua/5.1/itorch/main.lua:210: in function </home/shanu/torch/install/share/lua/5.1/itorch/main.lua:174>\n\t/home/shanu/torch/install/share/lua/5.1/lzmq/poller.lua:75: in function 'poll'\n\t/home/shanu/torch/install/share/lua/5.1/lzmq/impl/loop.lua:307: in function 'poll'\n\t/home/shanu/torch/install/share/lua/5.1/lzmq/impl/loop.lua:325: in function 'sleep_ex'\n\t/home/shanu/torch/install/share/lua/5.1/lzmq/impl/loop.lua:370: in function 'start'\n\t/home/shanu/torch/install/share/lua/5.1/itorch/main.lua:389: in main chunk\n\t[C]: in function 'require'\n\t(command line):1: in main chunk\n\t[C]: at 0x00405d50",
     "evalue": "",
     "output_type": "error",
     "traceback": [
      "/home/shanu/torch/install/share/lua/5.1/nn/Container.lua:67: \nIn 1 module of nn.Sequential:\n/home/shanu/torch/install/share/lua/5.1/nn/THNN.lua:110: bad argument #3 to 'v' (cannot convert 'struct THDoubleTensor *' to 'struct THFloatTensor *')\nstack traceback:\n\t[C]: in function 'v'\n\t/home/shanu/torch/install/share/lua/5.1/nn/THNN.lua:110: in function 'SpatialConvolutionMM_updateOutput'\n\t...nu/torch/install/share/lua/5.1/nn/SpatialConvolution.lua:79: in function <...nu/torch/install/share/lua/5.1/nn/SpatialConvolution.lua:76>\n\t[C]: in function 'xpcall'\n\t/home/shanu/torch/install/share/lua/5.1/nn/Container.lua:63: in function 'rethrowErrors'\n\t/home/shanu/torch/install/share/lua/5.1/nn/Sequential.lua:44: in function 'forward'\n\t[string \"eval = function(dataset)...\"]:5: in function 'eval'\n\t[string \"eval = function(dataset)...\"]:15: in main chunk\n\t[C]: in function 'xpcall'\n\t/home/shanu/torch/install/share/lua/5.1/itorch/main.lua:210: in function </home/shanu/torch/install/share/lua/5.1/itorch/main.lua:174>\n\t/home/shanu/torch/install/share/lua/5.1/lzmq/poller.lua:75: in function 'poll'\n\t/home/shanu/torch/install/share/lua/5.1/lzmq/impl/loop.lua:307: in function 'poll'\n\t/home/shanu/torch/install/share/lua/5.1/lzmq/impl/loop.lua:325: in function 'sleep_ex'\n\t/home/shanu/torch/install/share/lua/5.1/lzmq/impl/loop.lua:370: in function 'start'\n\t/home/shanu/torch/install/share/lua/5.1/itorch/main.lua:389: in main chunk\n\t[C]: in function 'require'\n\t(command line):1: in main chunk\n\t[C]: at 0x00405d50\n\nWARNING: If you see a stack trace below, it doesn't point to the place where this error occurred. Please use only the one above.\nstack traceback:\n\t[C]: in function 'error'\n\t/home/shanu/torch/install/share/lua/5.1/nn/Container.lua:67: in function 'rethrowErrors'\n\t/home/shanu/torch/install/share/lua/5.1/nn/Sequential.lua:44: in function 'forward'\n\t[string \"eval = function(dataset)...\"]:5: in function 'eval'\n\t[string \"eval = function(dataset)...\"]:15: in main chunk\n\t[C]: in function 'xpcall'\n\t/home/shanu/torch/install/share/lua/5.1/itorch/main.lua:210: in function </home/shanu/torch/install/share/lua/5.1/itorch/main.lua:174>\n\t/home/shanu/torch/install/share/lua/5.1/lzmq/poller.lua:75: in function 'poll'\n\t/home/shanu/torch/install/share/lua/5.1/lzmq/impl/loop.lua:307: in function 'poll'\n\t/home/shanu/torch/install/share/lua/5.1/lzmq/impl/loop.lua:325: in function 'sleep_ex'\n\t/home/shanu/torch/install/share/lua/5.1/lzmq/impl/loop.lua:370: in function 'start'\n\t/home/shanu/torch/install/share/lua/5.1/itorch/main.lua:389: in main chunk\n\t[C]: in function 'require'\n\t(command line):1: in main chunk\n\t[C]: at 0x00405d50"
     ]
    }
   ],
   "source": [
    "eval = function(dataset)\n",
    "    correct = 0\n",
    "    for i=1,size*.8 do\n",
    "        local target = dataset.label[i]\n",
    "        local prediction = model:forward(dataset.data[i])\n",
    "        local confidences, indices = torch.sort(prediction, true)  \n",
    "        print(target,indices[1],confidences)\n",
    "        if target == indices[1] then\n",
    "            correct = correct + 1\n",
    "        end\n",
    "    end\n",
    "    return correct/(size*.8)*100\n",
    "end\n",
    "\n",
    "eval(testset)"
   ]
  },
  {
   "cell_type": "code",
   "execution_count": 70,
   "metadata": {},
   "outputs": [
    {
     "data": {
      "text/plain": [
       "\n"
      ]
     },
     "execution_count": 70,
     "metadata": {},
     "output_type": "execute_result"
    }
   ],
   "source": [
    "torch.save('modelv1.net', model)"
   ]
  },
  {
   "cell_type": "code",
   "execution_count": null,
   "metadata": {
    "collapsed": true
   },
   "outputs": [],
   "source": []
  }
 ],
 "metadata": {
  "kernelspec": {
   "display_name": "iTorch",
   "language": "lua",
   "name": "itorch"
  },
  "language_info": {
   "name": "lua",
   "version": "5.1"
  }
 },
 "nbformat": 4,
 "nbformat_minor": 2
}
